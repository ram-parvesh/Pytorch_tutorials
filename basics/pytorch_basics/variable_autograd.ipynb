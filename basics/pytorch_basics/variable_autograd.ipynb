{
 "cells": [
  {
   "cell_type": "code",
   "execution_count": 2,
   "id": "86635017",
   "metadata": {},
   "outputs": [],
   "source": [
    "import torch\n",
    "from torch.autograd import Variable"
   ]
  },
  {
   "cell_type": "markdown",
   "id": "c46fd703",
   "metadata": {},
   "source": [
    "## torch vs Variable"
   ]
  },
  {
   "cell_type": "code",
   "execution_count": 4,
   "id": "e9435a9f",
   "metadata": {},
   "outputs": [
    {
     "data": {
      "text/plain": [
       "(tensor([[0.9977, 0.3805],\n",
       "         [0.1321, 0.6008]]),\n",
       " tensor([[0.9977, 0.3805],\n",
       "         [0.1321, 0.6008]], requires_grad=True))"
      ]
     },
     "execution_count": 4,
     "metadata": {},
     "output_type": "execute_result"
    }
   ],
   "source": [
    "tensor = torch.rand(2,2,)\n",
    "x = Variable(tensor , requires_grad=True)\n",
    "\n",
    "tensor ,x"
   ]
  },
  {
   "cell_type": "code",
   "execution_count": 7,
   "id": "7df9a1eb",
   "metadata": {},
   "outputs": [
    {
     "data": {
      "text/plain": [
       "(tensor(2.1111, grad_fn=<SumBackward0>),\n",
       " tensor([[0.9989, 0.6169],\n",
       "         [0.3634, 0.7751]], grad_fn=<SqrtBackward0>),\n",
       " tensor([[0.9954, 0.1448],\n",
       "         [0.0174, 0.3610]], grad_fn=<PowBackward0>),\n",
       " tensor([[0.9977, 0.3805],\n",
       "         [0.1321, 0.6008]], requires_grad=True))"
      ]
     },
     "execution_count": 7,
     "metadata": {},
     "output_type": "execute_result"
    }
   ],
   "source": [
    "x.sum() , x.sqrt() , x**2 , x"
   ]
  },
  {
   "cell_type": "markdown",
   "id": "27af953a",
   "metadata": {},
   "source": [
    "## Variable"
   ]
  },
  {
   "cell_type": "code",
   "execution_count": 8,
   "id": "03e5cfac",
   "metadata": {},
   "outputs": [
    {
     "data": {
      "text/plain": [
       "tensor([[0.9977, 0.3805],\n",
       "        [0.1321, 0.6008]])"
      ]
     },
     "execution_count": 8,
     "metadata": {},
     "output_type": "execute_result"
    }
   ],
   "source": [
    "x.data"
   ]
  },
  {
   "cell_type": "code",
   "execution_count": 9,
   "id": "646148f0",
   "metadata": {},
   "outputs": [
    {
     "name": "stderr",
     "output_type": "stream",
     "text": [
      "/home/ram/anaconda3/envs/image/lib/python3.7/site-packages/ipykernel_launcher.py:1: UserWarning: volatile was removed (Variable.volatile is always False)\n",
      "  \"\"\"Entry point for launching an IPython kernel.\n"
     ]
    },
    {
     "data": {
      "text/plain": [
       "(True, None, None, False)"
      ]
     },
     "execution_count": 9,
     "metadata": {},
     "output_type": "execute_result"
    }
   ],
   "source": [
    "x.requires_grad , x.grad , x.grad_fn, x.volatile"
   ]
  },
  {
   "cell_type": "code",
   "execution_count": 11,
   "id": "ebe40c7a",
   "metadata": {},
   "outputs": [
    {
     "data": {
      "text/plain": [
       "(True, True, False, tensor([30.], grad_fn=<AddBackward0>))"
      ]
     },
     "execution_count": 11,
     "metadata": {},
     "output_type": "execute_result"
    }
   ],
   "source": [
    "x = Variable(torch.FloatTensor([3]),requires_grad=True)\n",
    "\n",
    "y = x**3 + 3\n",
    "\n",
    "z = Variable(torch.FloatTensor([5]))\n",
    "\n",
    "x.requires_grad ,y.requires_grad, z.requires_grad, y"
   ]
  },
  {
   "cell_type": "code",
   "execution_count": 12,
   "id": "b9c5813e",
   "metadata": {},
   "outputs": [
    {
     "data": {
      "text/plain": [
       "<PowBackward0 at 0x7f23919302d0>"
      ]
     },
     "execution_count": 12,
     "metadata": {},
     "output_type": "execute_result"
    }
   ],
   "source": [
    "y.grad_fn.next_functions[0][0]"
   ]
  },
  {
   "cell_type": "code",
   "execution_count": 13,
   "id": "3e623026",
   "metadata": {},
   "outputs": [],
   "source": [
    "y.backward()"
   ]
  },
  {
   "cell_type": "code",
   "execution_count": 14,
   "id": "34334a73",
   "metadata": {},
   "outputs": [
    {
     "data": {
      "text/plain": [
       "(tensor([3.], requires_grad=True), tensor([27.]))"
      ]
     },
     "execution_count": 14,
     "metadata": {},
     "output_type": "execute_result"
    }
   ],
   "source": [
    "x,x.grad"
   ]
  },
  {
   "cell_type": "code",
   "execution_count": 15,
   "id": "8bd67296",
   "metadata": {},
   "outputs": [
    {
     "data": {
      "text/plain": [
       "(tensor([0.]), tensor([0.]), tensor([0.]))"
      ]
     },
     "execution_count": 15,
     "metadata": {},
     "output_type": "execute_result"
    }
   ],
   "source": [
    "x.grad , x.grad.data.zero_() , x.grad"
   ]
  },
  {
   "cell_type": "code",
   "execution_count": 16,
   "id": "f45621c1",
   "metadata": {},
   "outputs": [],
   "source": [
    "x1 = Variable(torch.ones(2),requires_grad=True)\n",
    "x2 = Variable(torch.ones(2))"
   ]
  },
  {
   "cell_type": "code",
   "execution_count": 17,
   "id": "6e4ffe12",
   "metadata": {},
   "outputs": [
    {
     "data": {
      "text/plain": [
       "tensor([3., 3.], grad_fn=<AddBackward0>)"
      ]
     },
     "execution_count": 17,
     "metadata": {},
     "output_type": "execute_result"
    }
   ],
   "source": [
    "y = x1* 2 +x2\n",
    "y"
   ]
  },
  {
   "cell_type": "code",
   "execution_count": null,
   "id": "5cd5a2b0",
   "metadata": {},
   "outputs": [],
   "source": [
    "y.backward()"
   ]
  }
 ],
 "metadata": {
  "kernelspec": {
   "display_name": "Python 3 (ipykernel)",
   "language": "python",
   "name": "python3"
  },
  "language_info": {
   "codemirror_mode": {
    "name": "ipython",
    "version": 3
   },
   "file_extension": ".py",
   "mimetype": "text/x-python",
   "name": "python",
   "nbconvert_exporter": "python",
   "pygments_lexer": "ipython3",
   "version": "3.7.13"
  }
 },
 "nbformat": 4,
 "nbformat_minor": 5
}
