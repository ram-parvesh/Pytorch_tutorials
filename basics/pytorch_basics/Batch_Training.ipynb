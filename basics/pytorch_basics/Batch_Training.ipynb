{
 "cells": [
  {
   "cell_type": "code",
   "execution_count": 6,
   "id": "22617053",
   "metadata": {},
   "outputs": [
    {
     "data": {
      "text/plain": [
       "<torch._C.Generator at 0x7f67201b0a90>"
      ]
     },
     "execution_count": 6,
     "metadata": {},
     "output_type": "execute_result"
    }
   ],
   "source": [
    "import torch\n",
    "import torch.utils.data as Data\n",
    "torch.manual_seed(6)\n"
   ]
  },
  {
   "cell_type": "markdown",
   "id": "fc42d987",
   "metadata": {},
   "source": [
    "## Create Dataset"
   ]
  },
  {
   "cell_type": "code",
   "execution_count": 7,
   "id": "d43ae978",
   "metadata": {},
   "outputs": [
    {
     "name": "stdout",
     "output_type": "stream",
     "text": [
      "tensor([ 1.,  2.,  3.,  4.,  5.,  6.,  7.,  8.,  9., 10.])\n",
      "tensor([10.,  9.,  8.,  7.,  6.,  5.,  4.,  3.,  2.,  1.])\n"
     ]
    },
    {
     "data": {
      "text/plain": [
       "tensor([[ 1., 10.],\n",
       "        [ 2.,  9.],\n",
       "        [ 3.,  8.],\n",
       "        [ 4.,  7.],\n",
       "        [ 5.,  6.],\n",
       "        [ 6.,  5.],\n",
       "        [ 7.,  4.],\n",
       "        [ 8.,  3.],\n",
       "        [ 9.,  2.],\n",
       "        [10.,  1.]])"
      ]
     },
     "execution_count": 7,
     "metadata": {},
     "output_type": "execute_result"
    }
   ],
   "source": [
    "x = torch.linspace(1,10,10)\n",
    "y = torch.linspace(10,1,10)\n",
    "print(x)\n",
    "print(y)\n",
    "torch.cat((x.view(len(x),-1),y.view(len(y),-1)),1)"
   ]
  },
  {
   "cell_type": "code",
   "execution_count": 8,
   "id": "fa9e042a",
   "metadata": {},
   "outputs": [],
   "source": [
    "dataset = Data.TensorDataset(x,y)"
   ]
  },
  {
   "cell_type": "markdown",
   "id": "17496fbb",
   "metadata": {},
   "source": [
    "## DataLoader"
   ]
  },
  {
   "cell_type": "code",
   "execution_count": 9,
   "id": "563ced46",
   "metadata": {},
   "outputs": [],
   "source": [
    "Batch_size = 5\n",
    "\n",
    "loader =Data.DataLoader(dataset = dataset,\n",
    "                       batch_size = Batch_size,\n",
    "                       shuffle = True,\n",
    "                       num_workers = 1,)"
   ]
  },
  {
   "cell_type": "code",
   "execution_count": 10,
   "id": "fea9561e",
   "metadata": {},
   "outputs": [
    {
     "name": "stdout",
     "output_type": "stream",
     "text": [
      "Epoch : 0 | Step  0 | batch x : [ 6.  1. 10.  4.  2.] | Batch y:  [ 5. 10.  1.  7.  9.]\n",
      "Epoch : 0 | Step  1 | batch x : [7. 3. 5. 8. 9.] | Batch y:  [4. 8. 6. 3. 2.]\n",
      "Epoch : 1 | Step  0 | batch x : [8. 6. 1. 3. 4.] | Batch y:  [ 3.  5. 10.  8.  7.]\n",
      "Epoch : 1 | Step  1 | batch x : [ 9. 10.  7.  2.  5.] | Batch y:  [2. 1. 4. 9. 6.]\n",
      "Epoch : 2 | Step  0 | batch x : [7. 1. 8. 5. 2.] | Batch y:  [ 4. 10.  3.  6.  9.]\n",
      "Epoch : 2 | Step  1 | batch x : [ 3.  9. 10.  6.  4.] | Batch y:  [8. 2. 1. 5. 7.]\n"
     ]
    }
   ],
   "source": [
    "for epoch in range(3):\n",
    "    for step, (batch_x,batch_y) in enumerate (loader):\n",
    "        print('Epoch :',epoch ,'| Step ',step,'| batch x :',batch_x.numpy(),'| Batch y: ',batch_y.numpy())"
   ]
  },
  {
   "cell_type": "code",
   "execution_count": 11,
   "id": "2c19284b",
   "metadata": {},
   "outputs": [
    {
     "name": "stdout",
     "output_type": "stream",
     "text": [
      "Epoch : 0 | Step  0 | batch x : [ 2.  6.  1.  7.  4.  9. 10.  5.] | Batch y:  [ 9.  5. 10.  4.  7.  2.  1.  6.]\n",
      "Epoch : 0 | Step  1 | batch x : [8. 3.] | Batch y:  [3. 8.]\n",
      "Epoch : 1 | Step  0 | batch x : [9. 2. 7. 8. 3. 5. 6. 4.] | Batch y:  [2. 9. 4. 3. 8. 6. 5. 7.]\n",
      "Epoch : 1 | Step  1 | batch x : [ 1. 10.] | Batch y:  [10.  1.]\n",
      "Epoch : 2 | Step  0 | batch x : [8. 2. 6. 3. 9. 4. 1. 7.] | Batch y:  [ 3.  9.  5.  8.  2.  7. 10.  4.]\n",
      "Epoch : 2 | Step  1 | batch x : [10.  5.] | Batch y:  [1. 6.]\n"
     ]
    }
   ],
   "source": [
    "BATCH_SIZE = 8\n",
    "\n",
    "loader = Data.DataLoader(\n",
    "                        dataset = dataset,      # torch TensorDataSet format\n",
    "                        batch_size = BATCH_SIZE, # mini batch size\n",
    "                        shuffle = True,           # random shuffle for training\n",
    "                        num_workers = 1,    # subprocesses for loading data\n",
    "                        )\n",
    "\n",
    "for epoch in range(3):        #train entire dataset for 3 times\n",
    "    for step, (batch_x,batch_y) in enumerate (loader):      #for each training step\n",
    "        \n",
    "        #train your data\n",
    "        \n",
    "        print('Epoch :',epoch ,'| Step ',step,'| batch x :',\n",
    "              batch_x.numpy(),'| Batch y: ',batch_y.numpy())"
   ]
  },
  {
   "cell_type": "markdown",
   "id": "b7b015cb",
   "metadata": {},
   "source": [
    "## Create dataset from Image"
   ]
  },
  {
   "cell_type": "code",
   "execution_count": 16,
   "id": "794c0f10",
   "metadata": {},
   "outputs": [
    {
     "ename": "SyntaxError",
     "evalue": "invalid syntax (3635189032.py, line 8)",
     "output_type": "error",
     "traceback": [
      "\u001b[0;36m  File \u001b[0;32m\"/tmp/ipykernel_5368/3635189032.py\"\u001b[0;36m, line \u001b[0;32m8\u001b[0m\n\u001b[0;31m    transforms.ToTensor(),]))\u001b[0m\n\u001b[0m             ^\u001b[0m\n\u001b[0;31mSyntaxError\u001b[0m\u001b[0;31m:\u001b[0m invalid syntax\n"
     ]
    }
   ],
   "source": [
    "import torchvision\n",
    "import torchvision.datasets as dsets\n",
    "import torchvision.transforms as transforms\n",
    "\n",
    "img_dir = \"./images\"\n",
    "img_data = dsets.ImageFolder(img_dir,transforms.Compose([\n",
    "            transforms.RandomResizedCrop(224)\n",
    "            transforms.ToTensor(),]))\n",
    "print(img_data.classes)"
   ]
  },
  {
   "cell_type": "code",
   "execution_count": null,
   "id": "d06c0f05",
   "metadata": {},
   "outputs": [],
   "source": [
    " "
   ]
  }
 ],
 "metadata": {
  "kernelspec": {
   "display_name": "Python 3 (ipykernel)",
   "language": "python",
   "name": "python3"
  },
  "language_info": {
   "codemirror_mode": {
    "name": "ipython",
    "version": 3
   },
   "file_extension": ".py",
   "mimetype": "text/x-python",
   "name": "python",
   "nbconvert_exporter": "python",
   "pygments_lexer": "ipython3",
   "version": "3.7.13"
  }
 },
 "nbformat": 4,
 "nbformat_minor": 5
}
